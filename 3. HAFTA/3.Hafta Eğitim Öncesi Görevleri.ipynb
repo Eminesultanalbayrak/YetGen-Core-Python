{
  "cells": [
    {
      "cell_type": "markdown",
      "metadata": {
        "id": "tsD4YVAe_Te2"
      },
      "source": [
        "# Problem 1\n",
        "Bir sayının 7'ye bölünebilir olup olmadığını kontrol etmek \n",
        "için bir program yazın.\n",
        "\n",
        "İpucu: Mod operatörünü (%) kullanabilirsiniz."
      ]
    },
    {
      "cell_type": "code",
      "execution_count": 5,
      "metadata": {
        "id": "NGjvNwKx_Te7"
      },
      "outputs": [
        {
          "name": "stdout",
          "output_type": "stream",
          "text": [
            "14 sayısı 7'ye tam bölünür.\n"
          ]
        }
      ],
      "source": [
        "sayi= int(input(\"Bir sayı giriniz:\"))\n",
        "if sayi % 7 == 0 :\n",
        "    print(f\"{sayi} sayısı 7'ye tam bölünür.\")\n",
        "else:\n",
        "    print(f\"{sayi} sayısı 7'ye tam bölünmez.\")"
      ]
    },
    {
      "cell_type": "markdown",
      "metadata": {
        "id": "Kg3qiBAI_Te8"
      },
      "source": [
        "# Problem 2\n",
        "Kullanıcıdan vize ve final notu isteyin. Girilen vize notunun %40’ı ve \n",
        "girilen finalnotunun ise %60’ı alınarak yıl sonu not ortalaması hesaplanacaktır. \n",
        "\n",
        "Bu not ortalaması eğer 85 ve üzeri ise AA, \n",
        "\n",
        "75 ve 85 arasında ise BA, \n",
        "\n",
        "70 ve 75 arasında ise BB, \n",
        "\n",
        "65 ve 70 arasında ise CB,\n",
        "\n",
        "60 ve 65 arasında ise CC,\n",
        "\n",
        "55 ve 60 arasında ise DC,\n",
        "\n",
        "50 ve 55 arasında ise DD olarak hesaplanacaktır. \n",
        "\n",
        "Bu öğrencinin yıl sonu toplam notu 50’nin altında ise FF ile dersten kalacaktır. \n",
        "\n",
        "Ayrıca öğrencinin final notu 50’nin altında ise direkt FF ile kalacaktır."
      ]
    },
    {
      "cell_type": "code",
      "execution_count": 15,
      "metadata": {
        "id": "MXTtCxI1_Te8"
      },
      "outputs": [
        {
          "name": "stdout",
          "output_type": "stream",
          "text": [
            "Yıl sonu not ortalamanız: 56.0\n",
            "Harf notunuz: DC\n"
          ]
        }
      ],
      "source": [
        "vize_notu = float(input(\"Vize notunuzu girin: \"))\n",
        "final_notu = float(input(\"Final notunuzu girin: \"))\n",
        "\n",
        "yil_sonu_notu = (vize_notu * (40/100)) + (final_notu * (60/100))\n",
        "\n",
        "# Harf notunu belirle\n",
        "if final_notu < 50:\n",
        "    harf_notu = \"FF\"\n",
        "elif yil_sonu_notu >= 85:\n",
        "    harf_notu = \"AA\"\n",
        "elif yil_sonu_notu >= 75:\n",
        "    harf_notu = \"BA\"\n",
        "elif yil_sonu_notu >= 70:\n",
        "    harf_notu = \"BB\"\n",
        "elif yil_sonu_notu >= 65:\n",
        "    harf_notu = \"CB\"\n",
        "elif yil_sonu_notu >= 60:\n",
        "    harf_notu = \"CC\"\n",
        "elif yil_sonu_notu >= 55:\n",
        "    harf_notu = \"DC\"\n",
        "elif yil_sonu_notu >= 50:\n",
        "    harf_notu = \"DD\"\n",
        "else:\n",
        "    harf_notu = \"FF\"\n",
        "\n",
        "print(f\"Yıl sonu not ortalamanız: {yil_sonu_notu:}\")\n",
        "print(f\"Harf notunuz: {harf_notu}\")"
      ]
    },
    {
      "cell_type": "markdown",
      "metadata": {
        "id": "tAoRYCTC_Te8"
      },
      "source": [
        "# Problem 3\n",
        "İki YetGenli Zirve'de karşılaşıyorlar. Birbirlerini tanımak için sorular soruyorlar. Birbirlerine yaşlarını soruyorlar. Akıllarına bir Python programı yazıp, yaşlarını ve isimlerini giriyorlar. Büyük olanın yaşını ekrana yazdıran programı yazıyorlar. Sende bu iki YetGenli'ye destek olmak ister misin?\n",
        "\n",
        "```\n",
        "Birinci YetGenlinin ismi: Ahmet\n",
        "Birinci YetGenlinin yaşı : 20\n",
        "İkinci YetGenlinin ismi: Mehmet\n",
        "İkinci YetGenlinin yaşı : 25\n",
        "Mehmet'in yaşı daha büyük ve yaşı 25'tir.\n",
        "```"
      ]
    },
    {
      "cell_type": "code",
      "execution_count": null,
      "metadata": {},
      "outputs": [],
      "source": [
        "isim1 = input(\"Birinci YetGenlinin ismini giriniz: \")\n",
        "yas1 = int(input(\"Birinci YetGenlinin yaşını giriniz: \"))\n",
        "\n",
        "isim2 = input(\"İkinci YetGenlinin ismini giriniz: \")\n",
        "yas2 = int(input(\"İkinci YetGenlinin yaşını giriniz: \"))\n",
        "\n",
        "if yas1 < yas2 :\n",
        "    print(f\"{isim2}'in yaşı daha büyük ve yaşı {yas2}'tir.\")\n",
        "if yas1 > yas2 :\n",
        "    print(f\"{isim1}'in yaşı büyük ve yaşı {yas1}'dir.\")\n",
        "else:\n",
        "    print(f\"{isim1} ve {isim2}'nin yaşları aynı ve {yas1}'dir.\")"
      ]
    },
    {
      "cell_type": "markdown",
      "metadata": {
        "id": "zBVv8Tyg_Te9"
      },
      "source": [
        "# Problem 4\n",
        "Pandemi döneminde AVM'lerde ateş ölçümü yapılıyor. AVM'ye giren kişinin ateş ölçümü 37.5 derecenin altında ise girişe izin veriliyor. 37.5 derecenin üstünde ise girişe izin verilmiyor. AVM'ye girişe izin verilip verilmediğini ekrana yazdıran bir program yazın.\n",
        "\n",
        "Program sonunda şöyle bir çıktı elde etmelisiniz:\n",
        "\n",
        "```\n",
        "Ateşiniz 37.5 derece. AVM'ye girebilirsin! Maske takmayı unutma!\n",
        "Ateşiniz 37.6 derece. AVM'ye giremezsin! Hemen evine dön!\n",
        "```"
      ]
    },
    {
      "cell_type": "code",
      "execution_count": 24,
      "metadata": {
        "id": "TSAXs8et_Te9"
      },
      "outputs": [
        {
          "name": "stdout",
          "output_type": "stream",
          "text": [
            "Ateşiniz 36.0 derece. AVM'ye girebilirsiniz! Maskenizi takmayı unutmayın!\n"
          ]
        }
      ],
      "source": [
        "ates = float(input(\"Ateşinizin kaç dere olduğunu giriniz:\"))\n",
        "if ates > 37.5:\n",
        "    print(f\"Ateşiniz {ates} derece. AVM'ye giremezsiniz! Hemen evinize dönün!\")\n",
        "if ates < 37.5:\n",
        "    print(f\"Ateşiniz {ates} derece. AVM'ye girebilirsiniz! Maskenizi takmayı unutmayın!\")"
      ]
    },
    {
      "cell_type": "markdown",
      "metadata": {
        "id": "6AEkZrDt_Te9"
      },
      "source": [
        "# Problem 5\n",
        "YetGen bir spor kulübüyle sponsorluk anlaşması yapıyor. Kulüp, sponsorluk anlaşmasına göre her YetGen liderinin beden kitle indeksini hesaplamak istiyor. Spor kulübü, beden kitle indeksini hesaplamak için YetGen Jump Python liderlerinden Berkcan ve Ahmet'i arıyor. Berkcan ve Ahmet, kulübe yardımcı olmak için bir Python programı yazıyorlar. Sende bu iki YetGen liderine destek olmak ister misin?\n",
        "\n",
        "Kullanıcıdan alınan boy ve kilo değerlerine göre beden kitle indeksini hesaplayın ve şu kurallara göre ekrana şu yazıları yazdırın.\n",
        "\n",
        "\n",
        "Beden Kitle İndeksi, kişinin ağırlığının (kg olarak) boyunun karesine (m olarak) bölünmesiyle hesaplanır.\n",
        "\n",
        "\n",
        "```\n",
        " BKİ 18.5'un altındaysa -------> Zayıf\n",
        "\n",
        " BKİ 18.5 ile 25 arasındaysa ------> Normal\n",
        "\n",
        " BKİ 25 ile 30 arasındaysa --------> Fazla Kilolu\n",
        "\n",
        " BKİ 30'un üstündeyse -------------> Obez\n",
        "```\n",
        "\n"
      ]
    },
    {
      "cell_type": "code",
      "execution_count": 25,
      "metadata": {
        "id": "t-XPI_u0_Te-"
      },
      "outputs": [
        {
          "name": "stdout",
          "output_type": "stream",
          "text": [
            "Beden kitle indeksiniz 0.0006459054209919261 ve durumunuz Zayıf.\n"
          ]
        }
      ],
      "source": [
        "boy = float(input(\"Boyunuzu giriniz: \"))\n",
        "kilo = float(input(\"Kilonuzu giriniz: \"))\n",
        "indeks = boy/(kilo**2)\n",
        "if indeks<18.5:\n",
        "    durum = \"Zayıf\"\n",
        "elif 18.5<=indeks<25:\n",
        "    durum = \"Normal\"\n",
        "elif 25<=indeks<30:\n",
        "    durum = \"Fazla Kilolu\"\n",
        "else:\n",
        "    status = \"Obez\"\n",
        "print(f\"Beden kitle indeksiniz {indeks} ve durumunuz {durum}.\")"
      ]
    },
    {
      "cell_type": "markdown",
      "metadata": {
        "id": "oFsvQyaO_Te-"
      },
      "source": [
        "# Problem 6\n",
        "Kullanıcıdan isim, yaş ve eğitim bilgilerini isteyip ehliyet alabilme  durumunu kontrol ediniz. \n",
        "\n",
        "Ehliyet alma koşulu en az 18 yaşında ve eğitim durumu lise ya da üniversite olmalıdır. "
      ]
    },
    {
      "cell_type": "code",
      "execution_count": 26,
      "metadata": {
        "id": "Tu2mcgco_Te-"
      },
      "outputs": [
        {
          "name": "stdout",
          "output_type": "stream",
          "text": [
            "Emine, ehliyet alabilirsin!\n"
          ]
        }
      ],
      "source": [
        "isim = input(\"İsminizi giriniz: \")\n",
        "yas = int(input(\"Yaşınızı giriniz: \"))\n",
        "eğitim = input(\"Eğitim bilginizi giriniz: \")\n",
        "if yas>=18 and (eğitim==\"lise\" or eğitim==\"üniversite\"):\n",
        "    print(f\"{isim}, ehliyet alabilirsin!\")\n",
        "else:\n",
        "    print(f\"{isim}, ehliyet alamazsın!\")"
      ]
    },
    {
      "cell_type": "markdown",
      "metadata": {
        "id": "eUkxVSAE_Te_"
      },
      "source": [
        "# Problem 7\n",
        "Bir yılın artık yıl olup olmadığını kontrol etmek için bir program yazın. \n",
        "Artık yıl kuralı:\n",
        "\n",
        "a) Eğer yılın son iki basamağı (00) ile bitmiyor ve yalnızca 4'e tam bölünüyorsa artık yıldır. Ya da, \n",
        "\n",
        "b) Eğer yıl 400'e tam bölünüyorsa artık yıldır.\n",
        "\n",
        "**Örneğin**\n",
        "```\n",
        "2017 artık yıl değildir.\n",
        "1900 artık yıl değildir\n",
        "2012 artık yıldır.\n",
        "2000 artık yıldır.\n",
        "```"
      ]
    },
    {
      "cell_type": "code",
      "execution_count": 27,
      "metadata": {
        "id": "4uWh8qUL_Te_"
      },
      "outputs": [
        {
          "name": "stdout",
          "output_type": "stream",
          "text": [
            "2024 artık yıldır.\n"
          ]
        }
      ],
      "source": [
        "yıl = int(input(\"Yılı giriniz: \"))\n",
        "if (yıl%100!=0 and yıl%4==0) or (yıl%400==0):\n",
        "    print(f\"{yıl} artık yıldır.\")\n",
        "else:\n",
        "    print(f\"{yıl} artık yıl değildir.\")"
      ]
    }
  ],
  "metadata": {
    "colab": {
      "provenance": []
    },
    "kernelspec": {
      "display_name": "Python 3.10.5 64-bit",
      "language": "python",
      "name": "python3"
    },
    "language_info": {
      "codemirror_mode": {
        "name": "ipython",
        "version": 3
      },
      "file_extension": ".py",
      "mimetype": "text/x-python",
      "name": "python",
      "nbconvert_exporter": "python",
      "pygments_lexer": "ipython3",
      "version": "3.12.3"
    },
    "orig_nbformat": 4,
    "vscode": {
      "interpreter": {
        "hash": "5026d2d6e7aaaaba093def813beadff083d8733e4a511af01735cbabd156995d"
      }
    }
  },
  "nbformat": 4,
  "nbformat_minor": 0
}
